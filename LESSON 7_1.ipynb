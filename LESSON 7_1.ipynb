{
 "cells": [
  {
   "cell_type": "code",
   "execution_count": 1,
   "metadata": {},
   "outputs": [],
   "source": [
    "import requests\n",
    "import pandas as pd\n",
    "import seaborn as sns\n",
    "import matplotlib.pyplot as plt"
   ]
  },
  {
   "cell_type": "code",
   "execution_count": 2,
   "metadata": {},
   "outputs": [],
   "source": [
    "url = 'https://collectionapi.metmuseum.org/public/collection/v1/search?q='\n",
    "IDs = 'sunflowers'\n",
    "r = requests.get('https://collectionapi.metmuseum.org/public/collection/v1/search?q=sunflowers')\n",
    "res = r.json()"
   ]
  },
  {
   "cell_type": "code",
   "execution_count": 3,
   "metadata": {},
   "outputs": [
    {
     "data": {
      "text/plain": [
       "{'total': 89,\n",
       " 'objectIDs': [436524,\n",
       "  484935,\n",
       "  437112,\n",
       "  210191,\n",
       "  431264,\n",
       "  397949,\n",
       "  656530,\n",
       "  480725,\n",
       "  486590,\n",
       "  485308,\n",
       "  375281,\n",
       "  705155,\n",
       "  11922,\n",
       "  2032,\n",
       "  343052,\n",
       "  20141,\n",
       "  2019,\n",
       "  347980,\n",
       "  208554,\n",
       "  403496,\n",
       "  761604,\n",
       "  437115,\n",
       "  207869,\n",
       "  360837,\n",
       "  400581,\n",
       "  423400,\n",
       "  707887,\n",
       "  223828,\n",
       "  682927,\n",
       "  57922,\n",
       "  649813,\n",
       "  79739,\n",
       "  193938,\n",
       "  339347,\n",
       "  208218,\n",
       "  202228,\n",
       "  437984,\n",
       "  436534,\n",
       "  704667,\n",
       "  696949,\n",
       "  437329,\n",
       "  436252,\n",
       "  363282,\n",
       "  207753,\n",
       "  822570,\n",
       "  816522,\n",
       "  487043,\n",
       "  436580,\n",
       "  437526,\n",
       "  203893,\n",
       "  367434,\n",
       "  190739,\n",
       "  423237,\n",
       "  262423,\n",
       "  839296,\n",
       "  367817,\n",
       "  822590,\n",
       "  822589,\n",
       "  13644,\n",
       "  18362,\n",
       "  820022,\n",
       "  648617,\n",
       "  761731,\n",
       "  814626,\n",
       "  892559,\n",
       "  207967,\n",
       "  626832,\n",
       "  262430,\n",
       "  262428,\n",
       "  707697,\n",
       "  205386,\n",
       "  262378,\n",
       "  426804,\n",
       "  633526,\n",
       "  369073,\n",
       "  747779,\n",
       "  852414,\n",
       "  436530,\n",
       "  427872,\n",
       "  895564,\n",
       "  436535,\n",
       "  436529,\n",
       "  436121,\n",
       "  436144,\n",
       "  437980,\n",
       "  724844,\n",
       "  834580,\n",
       "  834585,\n",
       "  834765]}"
      ]
     },
     "execution_count": 3,
     "metadata": {},
     "output_type": "execute_result"
    }
   ],
   "source": [
    "res"
   ]
  },
  {
   "cell_type": "code",
   "execution_count": 4,
   "metadata": {},
   "outputs": [],
   "source": [
    "sunflower_ids = res['objectIDs']"
   ]
  },
  {
   "cell_type": "code",
   "execution_count": 5,
   "metadata": {},
   "outputs": [
    {
     "data": {
      "text/plain": [
       "[436524,\n",
       " 484935,\n",
       " 437112,\n",
       " 210191,\n",
       " 431264,\n",
       " 397949,\n",
       " 656530,\n",
       " 480725,\n",
       " 486590,\n",
       " 485308,\n",
       " 375281,\n",
       " 705155,\n",
       " 11922,\n",
       " 2032,\n",
       " 343052,\n",
       " 20141,\n",
       " 2019,\n",
       " 347980,\n",
       " 208554,\n",
       " 403496,\n",
       " 761604,\n",
       " 437115,\n",
       " 207869,\n",
       " 360837,\n",
       " 400581,\n",
       " 423400,\n",
       " 707887,\n",
       " 223828,\n",
       " 682927,\n",
       " 57922,\n",
       " 649813,\n",
       " 79739,\n",
       " 193938,\n",
       " 339347,\n",
       " 208218,\n",
       " 202228,\n",
       " 437984,\n",
       " 436534,\n",
       " 704667,\n",
       " 696949,\n",
       " 437329,\n",
       " 436252,\n",
       " 363282,\n",
       " 207753,\n",
       " 822570,\n",
       " 816522,\n",
       " 487043,\n",
       " 436580,\n",
       " 437526,\n",
       " 203893,\n",
       " 367434,\n",
       " 190739,\n",
       " 423237,\n",
       " 262423,\n",
       " 839296,\n",
       " 367817,\n",
       " 822590,\n",
       " 822589,\n",
       " 13644,\n",
       " 18362,\n",
       " 820022,\n",
       " 648617,\n",
       " 761731,\n",
       " 814626,\n",
       " 892559,\n",
       " 207967,\n",
       " 626832,\n",
       " 262430,\n",
       " 262428,\n",
       " 707697,\n",
       " 205386,\n",
       " 262378,\n",
       " 426804,\n",
       " 633526,\n",
       " 369073,\n",
       " 747779,\n",
       " 852414,\n",
       " 436530,\n",
       " 427872,\n",
       " 895564,\n",
       " 436535,\n",
       " 436529,\n",
       " 436121,\n",
       " 436144,\n",
       " 437980,\n",
       " 724844,\n",
       " 834580,\n",
       " 834585,\n",
       " 834765]"
      ]
     },
     "execution_count": 5,
     "metadata": {},
     "output_type": "execute_result"
    }
   ],
   "source": [
    "sunflower_ids"
   ]
  },
  {
   "cell_type": "code",
   "execution_count": 9,
   "metadata": {},
   "outputs": [],
   "source": [
    "r_test = requests.get(f'https://collectionapi.metmuseum.org/public/collection/v1/objects/437980')\n",
    "obj_test = r_test.json()"
   ]
  },
  {
   "cell_type": "code",
   "execution_count": 16,
   "metadata": {},
   "outputs": [
    {
     "data": {
      "text/plain": [
       "{'objectID': 205386,\n",
       " 'isHighlight': False,\n",
       " 'accessionNumber': '1971.180.195a, b–.198a, b',\n",
       " 'accessionYear': '1971',\n",
       " 'isPublicDomain': True,\n",
       " 'primaryImage': 'https://images.metmuseum.org/CRDImages/es/original/197737.jpg',\n",
       " 'primaryImageSmall': 'https://images.metmuseum.org/CRDImages/es/web-large/197737.jpg',\n",
       " 'additionalImages': ['https://images.metmuseum.org/CRDImages/es/original/197736.jpg',\n",
       "  'https://images.metmuseum.org/CRDImages/es/original/197739.jpg',\n",
       "  'https://images.metmuseum.org/CRDImages/es/original/197738.jpg'],\n",
       " 'constituents': None,\n",
       " 'department': 'European Sculpture and Decorative Arts',\n",
       " 'objectName': 'Tea and coffee set',\n",
       " 'title': 'Tea and coffee set (teapot, coffeepot, milk jug, sugar bowl)',\n",
       " 'culture': '',\n",
       " 'period': '',\n",
       " 'dynasty': '',\n",
       " 'reign': '',\n",
       " 'portfolio': '',\n",
       " 'artistRole': '',\n",
       " 'artistPrefix': '',\n",
       " 'artistDisplayName': '',\n",
       " 'artistDisplayBio': '',\n",
       " 'artistSuffix': '',\n",
       " 'artistAlphaSort': '',\n",
       " 'artistNationality': '',\n",
       " 'artistBeginDate': '',\n",
       " 'artistEndDate': '',\n",
       " 'artistGender': '',\n",
       " 'artistWikidata_URL': '',\n",
       " 'artistULAN_URL': '',\n",
       " 'objectDate': 'early 19th century',\n",
       " 'objectBeginDate': 1800,\n",
       " 'objectEndDate': 1815,\n",
       " 'medium': 'Glazed earthenware, silver',\n",
       " 'dimensions': 'Height (with cover .195a, b): 6 3/8 in. (16.2 cm);\\r\\nHeight (with cover .196a, b): 12 1/4 in. (31.1 cm);\\r\\nHeight (with cover .197a, b): 7 1/4 in. (18.4 cm);\\r\\nHeight (.198a, b): 2 7/8 in. (7.3 cm)',\n",
       " 'measurements': [{'elementName': 'Height',\n",
       "   'elementDescription': '.198a, b',\n",
       "   'elementMeasurements': {'Height': 7.3025146}},\n",
       "  {'elementName': 'Height',\n",
       "   'elementDescription': 'with cover .197a, b',\n",
       "   'elementMeasurements': {'Height': 18.415037}},\n",
       "  {'elementName': 'Height',\n",
       "   'elementDescription': 'with cover .196a, b',\n",
       "   'elementMeasurements': {'Height': 31.115063}},\n",
       "  {'elementName': 'Height',\n",
       "   'elementDescription': 'with cover .195a, b',\n",
       "   'elementMeasurements': {'Height': 16.192532}}],\n",
       " 'creditLine': 'Bequest of Flora E. Whiting, 1971',\n",
       " 'geographyType': '',\n",
       " 'city': '',\n",
       " 'state': '',\n",
       " 'county': '',\n",
       " 'country': '',\n",
       " 'region': '',\n",
       " 'subregion': '',\n",
       " 'locale': '',\n",
       " 'locus': '',\n",
       " 'excavation': '',\n",
       " 'river': '',\n",
       " 'classification': 'Ceramics-Pottery',\n",
       " 'rightsAndReproduction': '',\n",
       " 'linkResource': '',\n",
       " 'metadataDate': '2021-07-13T04:41:40.21Z',\n",
       " 'repository': 'Metropolitan Museum of Art, New York, NY',\n",
       " 'objectURL': 'https://www.metmuseum.org/art/collection/search/205386',\n",
       " 'tags': [{'term': 'Animals',\n",
       "   'AAT_URL': 'http://vocab.getty.edu/page/aat/300249525',\n",
       "   'Wikidata_URL': 'https://www.wikidata.org/wiki/Q729'}],\n",
       " 'objectWikidata_URL': '',\n",
       " 'isTimelineWork': False,\n",
       " 'GalleryNumber': ''}"
      ]
     },
     "execution_count": 16,
     "metadata": {},
     "output_type": "execute_result"
    }
   ],
   "source": [
    "obj_test"
   ]
  },
  {
   "cell_type": "code",
   "execution_count": 14,
   "metadata": {},
   "outputs": [],
   "source": [
    "df = []\n",
    "for i in sunflower_ids:\n",
    "    df = requests.get(f'https://collectionapi.metmuseum.org/public/collection/v1/objects/sunflower_ids')\n",
    "    obj_test = df.json()"
   ]
  },
  {
   "cell_type": "code",
   "execution_count": 15,
   "metadata": {},
   "outputs": [
    {
     "data": {
      "text/plain": [
       "<Response [200]>"
      ]
     },
     "execution_count": 15,
     "metadata": {},
     "output_type": "execute_result"
    }
   ],
   "source": [
    "df"
   ]
  },
  {
   "cell_type": "code",
   "execution_count": null,
   "metadata": {},
   "outputs": [],
   "source": []
  }
 ],
 "metadata": {
  "kernelspec": {
   "display_name": "Python 3",
   "language": "python",
   "name": "python3"
  },
  "language_info": {
   "codemirror_mode": {
    "name": "ipython",
    "version": 3
   },
   "file_extension": ".py",
   "mimetype": "text/x-python",
   "name": "python",
   "nbconvert_exporter": "python",
   "pygments_lexer": "ipython3",
   "version": "3.7.3"
  }
 },
 "nbformat": 4,
 "nbformat_minor": 4
}
